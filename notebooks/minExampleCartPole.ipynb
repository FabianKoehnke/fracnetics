{
  "cells": [
    {
      "cell_type": "markdown",
      "metadata": {
        "id": "SuKPW8i0SF1u"
      },
      "source": [
        "# Small Tutorial Using Fracnetics\n",
        "\n",
        "## Summary 🔭\n",
        "\n",
        "This notebook demonstrates how to use the **Fracnetics** library to solve the CartPole environment problem from Gymnasium (fork from OpenAI Gym).\n",
        "\n",
        "Fractnetics is a Python library for **Genetic Network Programming (GNP)** enhanced with fractal geometry, which means it a subfield of Evolutionary Algorithms.\n",
        "\n",
        "## Cart Pole\n",
        "\n",
        "A pole is attached by an un-actuated joint to a cart, which moves along a frictionless track. The pendulum is placed upright on the cart and the goal is to balance the pole by applying forces in the left and right direction on the cart.\n",
        "\n",
        "![Beschreibung](https://gymnasium.farama.org/_images/cart_pole.gif)\n",
        "\n",
        "## Evolutionary Aglortihms 🧬\n",
        "\n",
        "Evolutionary Algorithms are a family of optimization techniques inspired by the process of natural evolution. They work by maintaining a **population** of candidate solutions, which evolve over time through operations such as **selection, mutation, and crossover**. The idea is to iteratively improve solutions by mimicking survival of the fittest, where better solutions are more likely to be chosen and combined to form new ones. EAs are especially useful for solving complex, nonlinear, and high-dimensional problems where traditional optimization methods may fail.\n",
        "\n",
        "## Genetic Network Programming 🦾\n",
        "\n",
        "Genetic Network Programming is a branch of evolutionary computation that represents solutions as **networks** of nodes rather than as linear strings (like in Genetic Algorithms). Each node corresponds to a function, decision, or action, and the network’s structure allows for recurrent flows of control. This enables GNP to model adaptive, flexible, and memory-dependent behaviors. It has been applied successfully in areas such as robotics, decision-making systems, and dynamic optimization tasks.\n",
        "\n",
        "## Next 🔥\n",
        "In this tutorial we will initialize a population, train it, validate it, and finally record a run.  \n",
        "\n",
        "Checkout Fracnetics and Gymnasium here:\n",
        "\n",
        "- Fracnetics: https://github.com/FabianKoehnke/fracnetics\n",
        "- Gymnasium: https://gymnasium.farama.org/\n",
        "\n"
      ]
    },
    {
      "cell_type": "markdown",
      "metadata": {
        "id": "ndNbgIKzSSzX"
      },
      "source": [
        "## Install and Load Packages"
      ]
    },
    {
      "cell_type": "code",
      "execution_count": null,
      "metadata": {
        "colab": {
          "base_uri": "https://localhost:8080/"
        },
        "id": "kQpZa6pZj8qI",
        "outputId": "42ba89bd-caa2-443f-94f7-78362beb0994"
      },
      "outputs": [],
      "source": [
        "!pip install --upgrade fracnetics\n",
        "import fracnetics as fn\n",
        "import gymnasium as gym\n",
        "from matplotlib import pyplot as plt\n",
        "import statistics\n",
        "from gymnasium.wrappers import RecordVideo"
      ]
    },
    {
      "cell_type": "markdown",
      "metadata": {
        "id": "3tQ4V33vScyI"
      },
      "source": [
        "## Initializing the Population\n",
        "\n",
        "Here we initialize the population for Fracnetics to solve the cartpole problem.\n",
        "\n",
        "Key parameters:\n",
        "- `seed`: random seed for reproducibility  \n",
        "- `ni`: number of individuals  \n",
        "- `jn` / `jnf`: judgment nodes and functions  \n",
        "- `pn` / `pnf`: perceptron nodes and functions  \n",
        "- `fractalJudgment`: enables/disables fractal-based judgment (not relevant in this tutorial)"
      ]
    },
    {
      "cell_type": "code",
      "execution_count": 15,
      "metadata": {
        "id": "-ugd2YbpkVev"
      },
      "outputs": [],
      "source": [
        "# Initialize the population\n",
        "pop = fn.Population(\n",
        "    seed=42,\n",
        "    ni=200,       # number of individuals\n",
        "    jn=1,         # judgment nodes\n",
        "    jnf=4,        # judgment node functions\n",
        "    pn=2,         # perceptron nodes\n",
        "    pnf=2,        # perceptron node functions\n",
        "    fractalJudgment=False\n",
        ")"
      ]
    },
    {
      "cell_type": "markdown",
      "metadata": {
        "id": "hkF6tTjrTwv3"
      },
      "source": [
        "Hints:\n",
        "\n",
        "- We just initialized one jn and two pn because networks can grow and shrink and therefore can add judgment nodes during the evolution. See also our paper: https://link.springer.com/chapter/10.1007/978-3-031-90062-4_18\n",
        "- We initialized 4 judgment nodes functions (jnf) because the observation is a ndarray with shape (4,)\n",
        "- We initializes 2 processing node functions (2) because the action is a ndarray with shape (1,) which can take values {0, 1}\n"
      ]
    },
    {
      "cell_type": "code",
      "execution_count": 16,
      "metadata": {
        "collapsed": true,
        "id": "PU0yhH5CU3U3"
      },
      "outputs": [],
      "source": [
        "# Set input feature boundaries (based on CartPole state space)\n",
        "minFeatures = [-4.8, -5, -0.418, -10]\n",
        "maxFeatures = [4.8, 5, 0.418, 10]\n",
        "pop.setAllNodeBoundaries(minFeatures, maxFeatures)"
      ]
    },
    {
      "cell_type": "markdown",
      "metadata": {
        "id": "UUpcNy_mVZbC"
      },
      "source": [
        "## Training the Population\n",
        "\n",
        "The population is trained over 300 generations.  \n",
        "Each generation involves:\n",
        "1. Fitness evaluation in the Gym environment  \n",
        "2. Selection (Tournament Selection)  \n",
        "3. Mutation (edges)  \n",
        "4. Crossover  \n",
        "5. Adding/Deleting nodes  \n",
        "\n",
        "The best fitness score from each generation is stored and plotted.  \n"
      ]
    },
    {
      "cell_type": "code",
      "execution_count": null,
      "metadata": {
        "colab": {
          "base_uri": "https://localhost:8080/",
          "height": 1000
        },
        "id": "4T4FuLCuYgeq",
        "outputId": "2a3b9c37-de11-407d-9907-402d85af5d76"
      },
      "outputs": [],
      "source": [
        "# Training environment\n",
        "env = gym.make(\"CartPole-v1\")\n",
        "fitnessProgess = []\n",
        "\n",
        "for g in range(300):  # 300 generations\n",
        "    pop.gymnasium(\n",
        "        env,\n",
        "        dMax=10,\n",
        "        penalty=2,\n",
        "        maxSteps=500,\n",
        "        maxConsecutiveP=10,\n",
        "        worstFitness=0,\n",
        "        seed=42+g\n",
        "    )\n",
        "    # Selection\n",
        "    pop.tournamentSelection(\n",
        "        N=2, # tournament size\n",
        "        E=1 # number of safed elite\n",
        "        )\n",
        "    # Mutations\n",
        "    pop.callEdgeMutation(\n",
        "        probInnerNodes=0.03, # probability of changing an edge of jn or pn\n",
        "        probStartNode = 0.03 # probability of changing an edge of the start node\n",
        "        )\n",
        "    # Crossover (recombination)\n",
        "    pop.crossover(probability=0.05)\n",
        "    # Add/Delete nodes\n",
        "    pop.callAddDelNodes(minFeatures, maxFeatures)\n",
        "\n",
        "    maxFitness = pop.bestFit\n",
        "    print(f\"Generation: {g} | Maximal Fitness: {maxFitness}\")\n",
        "    fitnessProgess.append(maxFitness)\n",
        "\n",
        "# Plot fitness progression\n",
        "plt.plot(fitnessProgess)\n",
        "plt.title(\"Fitness Progress\")\n",
        "plt.xlabel(\"Generation\")\n",
        "plt.ylabel(\"Fitness\")"
      ]
    },
    {
      "cell_type": "markdown",
      "metadata": {
        "id": "o0oTgoFOeEx5"
      },
      "source": [
        "## Inspecting the Best Individual\n",
        "\n",
        "Now we inspect the best individual:  \n",
        "- Start node and its edges  \n",
        "- Inner node types, functions, edges, and boundaries  \n",
        "\n",
        "Because the Genetic Network Programming is **not** a Blackbox-Model\n"
      ]
    },
    {
      "cell_type": "code",
      "execution_count": null,
      "metadata": {
        "colab": {
          "base_uri": "https://localhost:8080/"
        },
        "id": "XT5L-ty8pXYE",
        "outputId": "2246b8cb-9cb3-4db4-d9bb-1b433e67431d"
      },
      "outputs": [],
      "source": [
        "pop.individuals[-1].fitness\n",
        "print(f\"Start Node: {pop.individuals[-1].startNode.edges}\")\n",
        "for node in pop.individuals[-1].innerNodes:\n",
        "  print(f\"Type: {node.type} | Function: {node.f} Edges: {node.edges} | Boundaries: {node.boundaries}\")"
      ]
    },
    {
      "cell_type": "markdown",
      "metadata": {
        "id": "Z4--eOeWeuYH"
      },
      "source": [
        "## Validation of the Best Individual\n",
        "\n",
        "The best individual is validated in a fresh environment.  \n",
        "We compute the average fitness across multiple runs.  \n"
      ]
    },
    {
      "cell_type": "code",
      "execution_count": 19,
      "metadata": {
        "colab": {
          "base_uri": "https://localhost:8080/"
        },
        "id": "GZz_jKLHGy3m",
        "outputId": "cb27a34f-02a0-46ee-92bf-ddceb882a556"
      },
      "outputs": [
        {
          "name": "stdout",
          "output_type": "stream",
          "text": [
            "Average Fitnes in Validation: 500.0\n"
          ]
        }
      ],
      "source": [
        "env = gym.make(\"CartPole-v1\")\n",
        "validationResults = []\n",
        "for v in range(10):\n",
        "    pop.gymnasium(\n",
        "          env,\n",
        "          dMax=10,\n",
        "          penalty=2,\n",
        "          maxSteps=500,\n",
        "          maxConsecutiveP=10,\n",
        "          worstFitness=0)\n",
        "    validationResults.append(pop.bestFit)\n",
        "print(f\"Average Fitnes of Validations: {statistics.mean(validationResults)}\")"
      ]
    },
    {
      "cell_type": "markdown",
      "metadata": {
        "id": "mvy_giy5fXC-"
      },
      "source": [
        "## Rendering and Recording the Best Run\n",
        "\n",
        "Finally, we run the environment in `rgb_array` mode and use `RecordVideo`  \n",
        "to save a video of the best individual playing CartPole. You can find the video in the nodebook folder \"videos\".\n"
      ]
    },
    {
      "cell_type": "code",
      "execution_count": 20,
      "metadata": {
        "id": "sbKhQQrqfbwy"
      },
      "outputs": [],
      "source": [
        "env = gym.make(\"CartPole-v1\", render_mode=\"rgb_array\")\n",
        "env = RecordVideo(env, video_folder=\"videos\", name_prefix=\"cartpole\")\n",
        "\n",
        "# Keep only the best individual\n",
        "pop.individuals = [pop.individuals[-1]]\n",
        "\n",
        "# Record a run\n",
        "pop.gymnasium(\n",
        "    env,\n",
        "    dMax=10,\n",
        "    penalty=1,\n",
        "    maxSteps=500,\n",
        "    maxConsecutiveP=5,\n",
        "    worstFitness=0\n",
        ")\n",
        "env.close()"
      ]
    }
  ],
  "metadata": {
    "colab": {
      "provenance": []
    },
    "kernelspec": {
      "display_name": "Python 3",
      "name": "python3"
    },
    "language_info": {
      "name": "python"
    }
  },
  "nbformat": 4,
  "nbformat_minor": 0
}
