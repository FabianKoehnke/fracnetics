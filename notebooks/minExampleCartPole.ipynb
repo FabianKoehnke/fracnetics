{
  "cells": [
    {
      "cell_type": "markdown",
      "metadata": {
        "id": "SuKPW8i0SF1u"
      },
      "source": [
        "# Small Tutorial Using Fracnetics\n",
        "\n",
        "## Summary 🔭\n",
        "\n",
        "This notebook demonstrates how to use the **Fracnetics** library to solve the CartPole environment problem from Gymnasium (fork from OpenAI Gym).\n",
        "\n",
        "Fractnetics is a Python library for **Genetic Network Programming (GNP)** enhanced with fractal geometry, which means it a subfield of Evolutionary Algorithms.\n",
        "\n",
        "## Cart Pole\n",
        "\n",
        "A pole is attached by an un-actuated joint to a cart, which moves along a frictionless track. The pendulum is placed upright on the cart and the goal is to balance the pole by applying forces in the left and right direction on the cart.\n",
        "\n",
        "![Beschreibung](https://gymnasium.farama.org/_images/cart_pole.gif)\n",
        "\n",
        "## Evolutionary Aglortihms 🧬\n",
        "\n",
        "Evolutionary Algorithms are a family of optimization techniques inspired by the process of natural evolution. They work by maintaining a **population** of candidate solutions, which evolve over time through operations such as **selection, mutation, and crossover**. The idea is to iteratively improve solutions by mimicking survival of the fittest, where better solutions are more likely to be chosen and combined to form new ones. EAs are especially useful for solving complex, nonlinear, and high-dimensional problems where traditional optimization methods may fail.\n",
        "\n",
        "## Genetic Network Programming 🦾\n",
        "\n",
        "Genetic Network Programming is a branch of evolutionary computation that represents solutions as **networks** of nodes rather than as linear strings (like in Genetic Algorithms). Each node corresponds to a function, decision, or action, and the network’s structure allows for recurrent flows of control. This enables GNP to model adaptive, flexible, and memory-dependent behaviors. It has been applied successfully in areas such as robotics, decision-making systems, and dynamic optimization tasks.\n",
        "\n",
        "## Next 🔥\n",
        "In this tutorial we will initialize a population, train it, validate it, and finally record a run.  \n",
        "\n",
        "Checkout Fracnetics and Gymnasium here:\n",
        "\n",
        "- Fracnetics: https://github.com/FabianKoehnke/fracnetics\n",
        "- Gymnasium: https://gymnasium.farama.org/\n",
        "\n"
      ]
    },
    {
      "cell_type": "markdown",
      "metadata": {
        "id": "ndNbgIKzSSzX"
      },
      "source": [
        "## Install and Load Packages"
      ]
    },
    {
      "cell_type": "code",
      "execution_count": 12,
      "metadata": {
        "colab": {
          "base_uri": "https://localhost:8080/"
        },
        "id": "kQpZa6pZj8qI",
        "outputId": "42ba89bd-caa2-443f-94f7-78362beb0994"
      },
      "outputs": [
        {
          "name": "stdout",
          "output_type": "stream",
          "text": [
            "Requirement already satisfied: fracnetics in /Users/Fabian/Documents/DataScience/Phd/GNPfrac/venv/lib/python3.11/site-packages (0.3.11)\n",
            "Requirement already satisfied: pybind11>=2.10.0 in /Users/Fabian/Documents/DataScience/Phd/GNPfrac/venv/lib/python3.11/site-packages (from fracnetics) (3.0.1)\n",
            "\n",
            "\u001b[1m[\u001b[0m\u001b[34;49mnotice\u001b[0m\u001b[1;39;49m]\u001b[0m\u001b[39;49m A new release of pip available: \u001b[0m\u001b[31;49m22.3.1\u001b[0m\u001b[39;49m -> \u001b[0m\u001b[32;49m25.2\u001b[0m\n",
            "\u001b[1m[\u001b[0m\u001b[34;49mnotice\u001b[0m\u001b[1;39;49m]\u001b[0m\u001b[39;49m To update, run: \u001b[0m\u001b[32;49mpip install --upgrade pip\u001b[0m\n"
          ]
        }
      ],
      "source": [
        "!pip install --upgrade fracnetics\n",
        "import fracnetics as fn\n",
        "import gymnasium as gym\n",
        "from matplotlib import pyplot as plt\n",
        "import statistics\n",
        "from gymnasium.wrappers import RecordVideo"
      ]
    },
    {
      "cell_type": "markdown",
      "metadata": {
        "id": "3tQ4V33vScyI"
      },
      "source": [
        "## Initializing the Population\n",
        "\n",
        "Here we initialize the population for Fracnetics to solve the cartpole problem.\n",
        "\n",
        "Key parameters:\n",
        "- `seed`: random seed for reproducibility  \n",
        "- `ni`: number of individuals  \n",
        "- `jn` / `jnf`: judgment nodes and functions  \n",
        "- `pn` / `pnf`: perceptron nodes and functions  \n",
        "- `fractalJudgment`: enables/disables fractal-based judgment (not relevant in this tutorial)"
      ]
    },
    {
      "cell_type": "code",
      "execution_count": 31,
      "metadata": {
        "id": "-ugd2YbpkVev"
      },
      "outputs": [],
      "source": [
        "seed=17\n",
        "# Initialize the population\n",
        "pop = fn.Population(\n",
        "    seed=seed,\n",
        "    ni=200,       # number of individuals\n",
        "    jn=1,         # judgment nodes\n",
        "    jnf=4,        # judgment node functions\n",
        "    pn=2,         # perceptron nodes\n",
        "    pnf=2,        # perceptron node functions\n",
        "    fractalJudgment=False\n",
        ")"
      ]
    },
    {
      "cell_type": "markdown",
      "metadata": {
        "id": "hkF6tTjrTwv3"
      },
      "source": [
        "Hints:\n",
        "\n",
        "- We just initialized one jn and two pn because networks can grow and shrink and therefore can add judgment nodes during the evolution. See also our paper: https://link.springer.com/chapter/10.1007/978-3-031-90062-4_18\n",
        "- We initialized 4 judgment nodes functions (jnf) because the observation is a ndarray with shape (4,)\n",
        "- We initializes 2 processing node functions (2) because the action is a ndarray with shape (1,) which can take values {0, 1}\n"
      ]
    },
    {
      "cell_type": "code",
      "execution_count": 14,
      "metadata": {
        "collapsed": true,
        "id": "PU0yhH5CU3U3"
      },
      "outputs": [],
      "source": [
        "# Set input feature boundaries (based on CartPole state space)\n",
        "minFeatures = [-4.8, -5, -0.418, -10]\n",
        "maxFeatures = [4.8, 5, 0.418, 10]\n",
        "pop.setAllNodeBoundaries(minFeatures, maxFeatures)"
      ]
    },
    {
      "cell_type": "markdown",
      "metadata": {
        "id": "UUpcNy_mVZbC"
      },
      "source": [
        "## Training the Population\n",
        "\n",
        "The population is trained over 300 generations.  \n",
        "Each generation involves:\n",
        "1. Fitness evaluation in the Gym environment  \n",
        "2. Selection (Tournament Selection)  \n",
        "3. Mutation (edges)  \n",
        "4. Crossover  \n",
        "5. Adding/Deleting nodes  \n",
        "\n",
        "The best fitness score from each generation is stored and plotted.  \n"
      ]
    },
    {
      "cell_type": "code",
      "execution_count": 15,
      "metadata": {
        "colab": {
          "base_uri": "https://localhost:8080/",
          "height": 1000
        },
        "id": "4T4FuLCuYgeq",
        "outputId": "2a3b9c37-de11-407d-9907-402d85af5d76"
      },
      "outputs": [
        {
          "name": "stdout",
          "output_type": "stream",
          "text": [
            "Generation: 0 | Maximal Fitness: 151.0\n",
            "Generation: 1 | Maximal Fitness: 208.0\n",
            "Generation: 2 | Maximal Fitness: 266.0\n",
            "Generation: 3 | Maximal Fitness: 281.0\n",
            "Generation: 4 | Maximal Fitness: 261.0\n",
            "Generation: 5 | Maximal Fitness: 313.0\n",
            "Generation: 6 | Maximal Fitness: 295.0\n",
            "Generation: 7 | Maximal Fitness: 305.0\n",
            "Generation: 8 | Maximal Fitness: 305.0\n",
            "Generation: 9 | Maximal Fitness: 285.0\n"
          ]
        },
        {
          "data": {
            "text/plain": [
              "Text(0, 0.5, 'Fitness')"
            ]
          },
          "execution_count": 15,
          "metadata": {},
          "output_type": "execute_result"
        },
        {
          "data": {
            "image/png": "[encoded data removed]",
            "text/plain": [
              "<Figure size 640x480 with 1 Axes>"
            ]
          },
          "metadata": {},
          "output_type": "display_data"
        }
      ],
      "source": [
        "# Training environment\n",
        "env = gym.make(\"CartPole-v1\")\n",
        "fitnessProgess = []\n",
        "\n",
        "for g in range(10):  # 300 generations\n",
        "    pop.gymnasium(\n",
        "        env,\n",
        "        dMax=10,\n",
        "        penalty=2,\n",
        "        maxSteps=500,\n",
        "        maxConsecutiveP=10,\n",
        "        worstFitness=0,\n",
        "        seed=seed+g\n",
        "    )\n",
        "    # Selection\n",
        "    pop.tournamentSelection(\n",
        "        N=2, # tournament size\n",
        "        E=1 # number of safed elite\n",
        "        )\n",
        "    # Mutations\n",
        "    pop.callEdgeMutation(\n",
        "        probInnerNodes=0.03, # probability of changing an edge of jn or pn\n",
        "        probStartNode = 0.03 # probability of changing an edge of the start node\n",
        "        )\n",
        "    # Crossover (recombination)\n",
        "    pop.crossover(probability=0.05)\n",
        "    # Add/Delete nodes\n",
        "    pop.callAddDelNodes(minFeatures, maxFeatures)\n",
        "\n",
        "    maxFitness = pop.bestFit\n",
        "    print(f\"Generation: {g} | Maximal Fitness: {maxFitness}\")\n",
        "    fitnessProgess.append(maxFitness)\n",
        "\n",
        "# Plot fitness progression\n",
        "plt.plot(fitnessProgess)\n",
        "plt.title(\"Fitness Progress\")\n",
        "plt.xlabel(\"Generation\")\n",
        "plt.ylabel(\"Fitness\")"
      ]
    },
    {
      "cell_type": "markdown",
      "metadata": {
        "id": "o0oTgoFOeEx5"
      },
      "source": [
        "## Inspecting the Best Individual\n",
        "\n",
        "Now we inspect the best individual:  \n",
        "- Start node and its edges  \n",
        "- Inner node types, functions, edges, and boundaries  \n",
        "\n",
        "Because the Genetic Network Programming is **not** a Blackbox-Model\n"
      ]
    },
    {
      "cell_type": "code",
      "execution_count": 16,
      "metadata": {
        "colab": {
          "base_uri": "https://localhost:8080/"
        },
        "id": "XT5L-ty8pXYE",
        "outputId": "2246b8cb-9cb3-4db4-d9bb-1b433e67431d"
      },
      "outputs": [
        {
          "name": "stdout",
          "output_type": "stream",
          "text": [
            "Start Node: [1]\n",
            "Type: J | Function: 3 Edges: [1, 2] | Boundaries: [-10.0, 0.0, 10.0]\n",
            "Type: P | Function: 0 Edges: [0] | Boundaries: []\n",
            "Type: P | Function: 1 Edges: [0] | Boundaries: []\n",
            "Type: P | Function: 0 Edges: [1] | Boundaries: []\n"
          ]
        }
      ],
      "source": [
        "pop.individuals[-1].fitness\n",
        "print(f\"Start Node: {pop.individuals[-1].startNode.edges}\")\n",
        "for node in pop.individuals[-1].innerNodes:\n",
        "  print(f\"Type: {node.type} | Function: {node.f} Edges: {node.edges} | Boundaries: {node.boundaries}\")"
      ]
    },
    {
      "cell_type": "markdown",
      "metadata": {
        "id": "Z4--eOeWeuYH"
      },
      "source": [
        "## Validation of the Best Individual\n",
        "\n",
        "The best individual is validated in a fresh environment.  \n",
        "We compute the average fitness across multiple runs.  \n"
      ]
    },
    {
      "cell_type": "code",
      "execution_count": 17,
      "metadata": {
        "colab": {
          "base_uri": "https://localhost:8080/"
        },
        "id": "GZz_jKLHGy3m",
        "outputId": "cb27a34f-02a0-46ee-92bf-ddceb882a556"
      },
      "outputs": [
        {
          "ename": "TypeError",
          "evalue": "gymnasium(): incompatible function arguments. The following argument types are supported:\n    1. (self: fracnetics.fracnetics.Population, env: object, dMax: typing.SupportsInt, penalty: typing.SupportsInt, maxSteps: typing.SupportsInt, maxConsecutiveP: typing.SupportsInt, worstFitness: typing.SupportsInt, seed: typing.SupportsInt) -> None\n\nInvoked with: <fracnetics.fracnetics.Population object at 0x111cc50f0>, <TimeLimit<OrderEnforcing<PassiveEnvChecker<CartPoleEnv<CartPole-v1>>>>>; kwargs: dMax=10, penalty=2, maxSteps=500, maxConsecutiveP=10, worstFitness=0",
          "output_type": "error",
          "traceback": [
            "\u001b[31m---------------------------------------------------------------------------\u001b[39m",
            "\u001b[31mTypeError\u001b[39m                                 Traceback (most recent call last)",
            "\u001b[36mCell\u001b[39m\u001b[36m \u001b[39m\u001b[32mIn[17]\u001b[39m\u001b[32m, line 4\u001b[39m\n\u001b[32m      2\u001b[39m validationResults = []\n\u001b[32m      3\u001b[39m \u001b[38;5;28;01mfor\u001b[39;00m v \u001b[38;5;129;01min\u001b[39;00m \u001b[38;5;28mrange\u001b[39m(\u001b[32m10\u001b[39m):\n\u001b[32m----> \u001b[39m\u001b[32m4\u001b[39m     \u001b[43mpop\u001b[49m\u001b[43m.\u001b[49m\u001b[43mgymnasium\u001b[49m\u001b[43m(\u001b[49m\n\u001b[32m      5\u001b[39m \u001b[43m          \u001b[49m\u001b[43menv\u001b[49m\u001b[43m,\u001b[49m\n\u001b[32m      6\u001b[39m \u001b[43m          \u001b[49m\u001b[43mdMax\u001b[49m\u001b[43m=\u001b[49m\u001b[32;43m10\u001b[39;49m\u001b[43m,\u001b[49m\n\u001b[32m      7\u001b[39m \u001b[43m          \u001b[49m\u001b[43mpenalty\u001b[49m\u001b[43m=\u001b[49m\u001b[32;43m2\u001b[39;49m\u001b[43m,\u001b[49m\n\u001b[32m      8\u001b[39m \u001b[43m          \u001b[49m\u001b[43mmaxSteps\u001b[49m\u001b[43m=\u001b[49m\u001b[32;43m500\u001b[39;49m\u001b[43m,\u001b[49m\n\u001b[32m      9\u001b[39m \u001b[43m          \u001b[49m\u001b[43mmaxConsecutiveP\u001b[49m\u001b[43m=\u001b[49m\u001b[32;43m10\u001b[39;49m\u001b[43m,\u001b[49m\n\u001b[32m     10\u001b[39m \u001b[43m          \u001b[49m\u001b[43mworstFitness\u001b[49m\u001b[43m=\u001b[49m\u001b[32;43m0\u001b[39;49m\u001b[43m)\u001b[49m\n\u001b[32m     11\u001b[39m     validationResults.append(pop.bestFit)\n\u001b[32m     12\u001b[39m \u001b[38;5;28mprint\u001b[39m(\u001b[33mf\u001b[39m\u001b[33m\"\u001b[39m\u001b[33mAverage Fitnes of Validations: \u001b[39m\u001b[38;5;132;01m{\u001b[39;00mstatistics.mean(validationResults)\u001b[38;5;132;01m}\u001b[39;00m\u001b[33m\"\u001b[39m)\n",
            "\u001b[31mTypeError\u001b[39m: gymnasium(): incompatible function arguments. The following argument types are supported:\n    1. (self: fracnetics.fracnetics.Population, env: object, dMax: typing.SupportsInt, penalty: typing.SupportsInt, maxSteps: typing.SupportsInt, maxConsecutiveP: typing.SupportsInt, worstFitness: typing.SupportsInt, seed: typing.SupportsInt) -> None\n\nInvoked with: <fracnetics.fracnetics.Population object at 0x111cc50f0>, <TimeLimit<OrderEnforcing<PassiveEnvChecker<CartPoleEnv<CartPole-v1>>>>>; kwargs: dMax=10, penalty=2, maxSteps=500, maxConsecutiveP=10, worstFitness=0"
          ]
        }
      ],
      "source": [
        "env = gym.make(\"CartPole-v1\")\n",
        "validationResults = []\n",
        "for v in range(10):\n",
        "    pop.gymnasium(\n",
        "          env,\n",
        "          dMax=10,\n",
        "          penalty=2,\n",
        "          maxSteps=500,\n",
        "          maxConsecutiveP=10,\n",
        "          worstFitness=0,\n",
        "          seed=seed)\n",
        "    validationResults.append(pop.bestFit)\n",
        "print(f\"Average Fitnes of Validations: {statistics.mean(validationResults)}\")"
      ]
    },
    {
      "cell_type": "markdown",
      "metadata": {
        "id": "mvy_giy5fXC-"
      },
      "source": [
        "## Rendering and Recording the Best Run\n",
        "\n",
        "Finally, we run the environment in `rgb_array` mode and use `RecordVideo`  \n",
        "to save a video of the best individual playing CartPole. You can find the video in the nodebook folder \"videos\".\n"
      ]
    },
    {
      "cell_type": "code",
      "execution_count": null,
      "metadata": {
        "id": "sbKhQQrqfbwy"
      },
      "outputs": [
        {
          "ename": "",
          "evalue": "",
          "output_type": "error",
          "traceback": [
            "\u001b[1;31mRunning cells with 'venv' requires the ipykernel package.\n",
            "\u001b[1;31mRun the following command to install 'ipykernel' into the Python environment. \n",
            "\u001b[1;31mCommand: '/Users/Fabian/Documents/DataScience/Phd/GNPfrac/venv/bin/python -m pip install ipykernel -U --force-reinstall'"
          ]
        }
      ],
      "source": [
        "env = gym.make(\"CartPole-v1\", render_mode=\"rgb_array\")\n",
        "env = RecordVideo(env, video_folder=\"videos\", name_prefix=\"cartpole\")\n",
        "\n",
        "# Keep only the best individual\n",
        "pop.individuals = [pop.individuals[-1]]\n",
        "\n",
        "# Record a run\n",
        "pop.gymnasium(\n",
        "    env,\n",
        "    dMax=10,\n",
        "    penalty=1,\n",
        "    maxSteps=500,\n",
        "    maxConsecutiveP=5,\n",
        "    worstFitness=0\n",
        ")\n",
        "env.close()"
      ]
    }
  ],
  "metadata": {
    "colab": {
      "provenance": []
    },
    "kernelspec": {
      "display_name": "Python 3",
      "name": "python3"
    },
    "language_info": {
      "codemirror_mode": {
        "name": "ipython",
        "version": 3
      },
      "file_extension": ".py",
      "mimetype": "text/x-python",
      "name": "python",
      "nbconvert_exporter": "python",
      "pygments_lexer": "ipython3",
      "version": "3.11.2"
    }
  },
  "nbformat": 4,
  "nbformat_minor": 0
}
