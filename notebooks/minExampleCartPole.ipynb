{
  "cells": [
    {
      "cell_type": "markdown",
      "metadata": {
        "id": "SuKPW8i0SF1u"
      },
      "source": [
        "# Small Tutorial Using Fracnetics\n",
        "\n",
        "## Summary 🔭\n",
        "\n",
        "This notebook demonstrates how to use the **Fracnetics** library to solve the CartPole environment problem from Gymnasium (fork from OpenAI Gym).\n",
        "\n",
        "Fractnetics is a Python library for **Genetic Network Programming (GNP)** enhanced with fractal geometry, which means it a subfield of Evolutionary Algorithms.\n",
        "\n",
        "## Cart Pole\n",
        "\n",
        "A pole is attached by an un-actuated joint to a cart, which moves along a frictionless track. The pendulum is placed upright on the cart and the goal is to balance the pole by applying forces in the left and right direction on the cart.\n",
        "\n",
        "![Beschreibung](https://gymnasium.farama.org/_images/cart_pole.gif)\n",
        "\n",
        "## Evolutionary Aglortihms 🧬\n",
        "\n",
        "Evolutionary Algorithms are a family of optimization techniques inspired by the process of natural evolution. They work by maintaining a **population** of candidate solutions, which evolve over time through operations such as **selection, mutation, and crossover**. The idea is to iteratively improve solutions by mimicking survival of the fittest, where better solutions are more likely to be chosen and combined to form new ones. EAs are especially useful for solving complex, nonlinear, and high-dimensional problems where traditional optimization methods may fail.\n",
        "\n",
        "## Genetic Network Programming 🦾\n",
        "\n",
        "Genetic Network Programming is a branch of evolutionary computation that represents solutions as **networks** of nodes rather than as linear strings (like in Genetic Algorithms). Each node corresponds to a function, decision, or action, and the network’s structure allows for recurrent flows of control. This enables GNP to model adaptive, flexible, and memory-dependent behaviors. It has been applied successfully in areas such as robotics, decision-making systems, and dynamic optimization tasks.\n",
        "\n",
        "## Next 🔥\n",
        "In this tutorial we will initialize a population, train it, validate it, and finally record a run.  \n",
        "\n",
        "Checkout Fracnetics and Gymnasium here:\n",
        "\n",
        "- Fracnetics: https://github.com/FabianKoehnke/fracnetics\n",
        "- Gymnasium: https://gymnasium.farama.org/\n",
        "\n"
      ]
    },
    {
      "cell_type": "markdown",
      "metadata": {
        "id": "ndNbgIKzSSzX"
      },
      "source": [
        "## Install and Load Packages"
      ]
    },
    {
      "cell_type": "code",
      "execution_count": 8,
      "metadata": {
        "colab": {
          "base_uri": "https://localhost:8080/"
        },
        "id": "kQpZa6pZj8qI",
        "outputId": "42ba89bd-caa2-443f-94f7-78362beb0994"
      },
      "outputs": [
        {
          "name": "stdout",
          "output_type": "stream",
          "text": [
            "Requirement already satisfied: fracnetics in /Users/Fabian/Documents/DataScience/Phd/GNPfrac/venv/lib/python3.11/site-packages (0.4.11)\n",
            "Requirement already satisfied: pybind11>=2.10.0 in /Users/Fabian/Documents/DataScience/Phd/GNPfrac/venv/lib/python3.11/site-packages (from fracnetics) (3.0.1)\n",
            "\n",
            "\u001b[1m[\u001b[0m\u001b[34;49mnotice\u001b[0m\u001b[1;39;49m]\u001b[0m\u001b[39;49m A new release of pip available: \u001b[0m\u001b[31;49m22.3.1\u001b[0m\u001b[39;49m -> \u001b[0m\u001b[32;49m25.2\u001b[0m\n",
            "\u001b[1m[\u001b[0m\u001b[34;49mnotice\u001b[0m\u001b[1;39;49m]\u001b[0m\u001b[39;49m To update, run: \u001b[0m\u001b[32;49mpip install --upgrade pip\u001b[0m\n"
          ]
        }
      ],
      "source": [
        "!pip install --upgrade fracnetics\n",
        "import fracnetics as fn\n",
        "import gymnasium as gym\n",
        "from matplotlib import pyplot as plt\n",
        "import statistics\n",
        "from gymnasium.wrappers import RecordVideo"
      ]
    },
    {
      "cell_type": "markdown",
      "metadata": {
        "id": "3tQ4V33vScyI"
      },
      "source": [
        "## Initializing the Population\n",
        "\n",
        "Here we initialize the population for Fracnetics to solve the cartpole problem.\n",
        "\n",
        "Key parameters:\n",
        "- `seed`: random seed for reproducibility  \n",
        "- `ni`: number of individuals  \n",
        "- `jn` / `jnf`: judgment nodes and functions  \n",
        "- `pn` / `pnf`: perceptron nodes and functions  \n",
        "- `fractalJudgment`: enables/disables fractal-based judgment (not relevant in this tutorial)"
      ]
    },
    {
      "cell_type": "code",
      "execution_count": 9,
      "metadata": {
        "id": "-ugd2YbpkVev"
      },
      "outputs": [],
      "source": [
        "seed=17\n",
        "# Initialize the population\n",
        "pop = fn.Population(\n",
        "    seed=seed,\n",
        "    ni=1000,       # number of individuals\n",
        "    jn=1,         # judgment nodes\n",
        "    jnf=4,        # judgment node functions\n",
        "    pn=2,         # perceptron nodes\n",
        "    pnf=2,        # perceptron node functions\n",
        "    fractalJudgment=False\n",
        ")"
      ]
    },
    {
      "cell_type": "markdown",
      "metadata": {
        "id": "hkF6tTjrTwv3"
      },
      "source": [
        "Hints:\n",
        "\n",
        "- We just initialized one jn and two pn because networks can grow and shrink and therefore can add judgment nodes during the evolution. See also our paper: https://link.springer.com/chapter/10.1007/978-3-031-90062-4_18\n",
        "- We initialized 4 judgment nodes functions (jnf) because the observation is a ndarray with shape (4,)\n",
        "- We initializes 2 processing node functions (2) because the action is a ndarray with shape (1,) which can take values {0, 1}\n"
      ]
    },
    {
      "cell_type": "code",
      "execution_count": 10,
      "metadata": {
        "collapsed": true,
        "id": "PU0yhH5CU3U3"
      },
      "outputs": [],
      "source": [
        "# Set input feature boundaries (based on CartPole state space)\n",
        "minFeatures = [-4.8, -5, -0.418, -10]\n",
        "maxFeatures = [4.8, 5, 0.418, 10]\n",
        "pop.setAllNodeBoundaries(minFeatures, maxFeatures)"
      ]
    },
    {
      "cell_type": "markdown",
      "metadata": {
        "id": "UUpcNy_mVZbC"
      },
      "source": [
        "## Training the Population\n",
        "\n",
        "The population is trained over 300 generations.  \n",
        "Each generation involves:\n",
        "1. Fitness evaluation in the Gym environment  \n",
        "2. Selection (Tournament Selection)  \n",
        "3. Mutation (edges)  \n",
        "4. Crossover  \n",
        "5. Adding/Deleting nodes  \n",
        "\n",
        "The best fitness score from each generation is stored and plotted.  \n"
      ]
    },
    {
      "cell_type": "code",
      "execution_count": 11,
      "metadata": {
        "colab": {
          "base_uri": "https://localhost:8080/",
          "height": 1000
        },
        "id": "4T4FuLCuYgeq",
        "outputId": "2a3b9c37-de11-407d-9907-402d85af5d76"
      },
      "outputs": [
        {
          "name": "stdout",
          "output_type": "stream",
          "text": [
            "Generation: 0 | Maximal Fitness: 265.0\n",
            "Generation: 1 | Maximal Fitness: 266.0\n",
            "Generation: 2 | Maximal Fitness: 290.0\n",
            "Generation: 3 | Maximal Fitness: 273.0\n",
            "Generation: 4 | Maximal Fitness: 295.0\n",
            "Generation: 5 | Maximal Fitness: 305.0\n",
            "Generation: 6 | Maximal Fitness: 313.0\n",
            "Generation: 7 | Maximal Fitness: 343.0\n",
            "Generation: 8 | Maximal Fitness: 313.0\n",
            "Generation: 9 | Maximal Fitness: 308.0\n",
            "Generation: 10 | Maximal Fitness: 311.0\n",
            "Generation: 11 | Maximal Fitness: 331.0\n",
            "Generation: 12 | Maximal Fitness: 309.0\n",
            "Generation: 13 | Maximal Fitness: 335.0\n",
            "Generation: 14 | Maximal Fitness: 315.0\n",
            "Generation: 15 | Maximal Fitness: 368.0\n",
            "Generation: 16 | Maximal Fitness: 354.0\n",
            "Generation: 17 | Maximal Fitness: 323.0\n",
            "Generation: 18 | Maximal Fitness: 316.0\n",
            "Generation: 19 | Maximal Fitness: 358.0\n",
            "Generation: 20 | Maximal Fitness: 327.0\n",
            "Generation: 21 | Maximal Fitness: 303.0\n",
            "Generation: 22 | Maximal Fitness: 306.0\n",
            "Generation: 23 | Maximal Fitness: 357.0\n",
            "Generation: 24 | Maximal Fitness: 346.0\n",
            "Generation: 25 | Maximal Fitness: 351.0\n",
            "Generation: 26 | Maximal Fitness: 353.0\n",
            "Generation: 27 | Maximal Fitness: 340.0\n",
            "Generation: 28 | Maximal Fitness: 341.0\n",
            "Generation: 29 | Maximal Fitness: 341.0\n",
            "Generation: 30 | Maximal Fitness: 324.0\n",
            "Generation: 31 | Maximal Fitness: 341.0\n",
            "Generation: 32 | Maximal Fitness: 331.0\n",
            "Generation: 33 | Maximal Fitness: 351.0\n",
            "Generation: 34 | Maximal Fitness: 345.0\n",
            "Generation: 35 | Maximal Fitness: 317.0\n",
            "Generation: 36 | Maximal Fitness: 311.0\n",
            "Generation: 37 | Maximal Fitness: 320.0\n",
            "Generation: 38 | Maximal Fitness: 321.0\n",
            "Generation: 39 | Maximal Fitness: 320.0\n",
            "Generation: 40 | Maximal Fitness: 318.0\n",
            "Generation: 41 | Maximal Fitness: 364.0\n",
            "Generation: 42 | Maximal Fitness: 387.0\n",
            "Generation: 43 | Maximal Fitness: 311.0\n",
            "Generation: 44 | Maximal Fitness: 318.0\n",
            "Generation: 45 | Maximal Fitness: 332.0\n",
            "Generation: 46 | Maximal Fitness: 327.0\n",
            "Generation: 47 | Maximal Fitness: 327.0\n",
            "Generation: 48 | Maximal Fitness: 333.0\n",
            "Generation: 49 | Maximal Fitness: 350.0\n",
            "Generation: 50 | Maximal Fitness: 331.0\n",
            "Generation: 51 | Maximal Fitness: 310.0\n",
            "Generation: 52 | Maximal Fitness: 339.0\n",
            "Generation: 53 | Maximal Fitness: 333.0\n",
            "Generation: 54 | Maximal Fitness: 400.0\n",
            "Generation: 55 | Maximal Fitness: 363.0\n",
            "Generation: 56 | Maximal Fitness: 339.0\n",
            "Generation: 57 | Maximal Fitness: 309.0\n",
            "Generation: 58 | Maximal Fitness: 319.0\n",
            "Generation: 59 | Maximal Fitness: 345.0\n",
            "Generation: 60 | Maximal Fitness: 352.0\n",
            "Generation: 61 | Maximal Fitness: 363.0\n",
            "Generation: 62 | Maximal Fitness: 319.0\n",
            "Generation: 63 | Maximal Fitness: 324.0\n",
            "Generation: 64 | Maximal Fitness: 305.0\n",
            "Generation: 65 | Maximal Fitness: 300.0\n",
            "Generation: 66 | Maximal Fitness: 327.0\n",
            "Generation: 67 | Maximal Fitness: 305.0\n",
            "Generation: 68 | Maximal Fitness: 365.0\n",
            "Generation: 69 | Maximal Fitness: 325.0\n",
            "Generation: 70 | Maximal Fitness: 308.0\n",
            "Generation: 71 | Maximal Fitness: 315.0\n",
            "Generation: 72 | Maximal Fitness: 339.0\n",
            "Generation: 73 | Maximal Fitness: 347.0\n",
            "Generation: 74 | Maximal Fitness: 329.0\n",
            "Generation: 75 | Maximal Fitness: 357.0\n",
            "Generation: 76 | Maximal Fitness: 334.0\n",
            "Generation: 77 | Maximal Fitness: 310.0\n",
            "Generation: 78 | Maximal Fitness: 343.0\n",
            "Generation: 79 | Maximal Fitness: 324.0\n",
            "Generation: 80 | Maximal Fitness: 312.0\n",
            "Generation: 81 | Maximal Fitness: 387.0\n",
            "Generation: 82 | Maximal Fitness: 317.0\n",
            "Generation: 83 | Maximal Fitness: 347.0\n",
            "Generation: 84 | Maximal Fitness: 322.0\n",
            "Generation: 85 | Maximal Fitness: 365.0\n",
            "Generation: 86 | Maximal Fitness: 381.0\n",
            "Generation: 87 | Maximal Fitness: 323.0\n",
            "Generation: 88 | Maximal Fitness: 317.0\n",
            "Generation: 89 | Maximal Fitness: 327.0\n",
            "Generation: 90 | Maximal Fitness: 323.0\n",
            "Generation: 91 | Maximal Fitness: 329.0\n",
            "Generation: 92 | Maximal Fitness: 331.0\n",
            "Generation: 93 | Maximal Fitness: 360.0\n",
            "Generation: 94 | Maximal Fitness: 329.0\n",
            "Generation: 95 | Maximal Fitness: 318.0\n",
            "Generation: 96 | Maximal Fitness: 329.0\n",
            "Generation: 97 | Maximal Fitness: 355.0\n",
            "Generation: 98 | Maximal Fitness: 352.0\n",
            "Generation: 99 | Maximal Fitness: 324.0\n",
            "Generation: 100 | Maximal Fitness: 335.0\n",
            "Generation: 101 | Maximal Fitness: 327.0\n",
            "Generation: 102 | Maximal Fitness: 324.0\n",
            "Generation: 103 | Maximal Fitness: 319.0\n",
            "Generation: 104 | Maximal Fitness: 374.0\n",
            "Generation: 105 | Maximal Fitness: 341.0\n",
            "Generation: 106 | Maximal Fitness: 319.0\n",
            "Generation: 107 | Maximal Fitness: 328.0\n",
            "Generation: 108 | Maximal Fitness: 340.0\n",
            "Generation: 109 | Maximal Fitness: 315.0\n",
            "Generation: 110 | Maximal Fitness: 328.0\n",
            "Generation: 111 | Maximal Fitness: 318.0\n",
            "Generation: 112 | Maximal Fitness: 369.0\n",
            "Generation: 113 | Maximal Fitness: 321.0\n",
            "Generation: 114 | Maximal Fitness: 317.0\n",
            "Generation: 115 | Maximal Fitness: 309.0\n",
            "Generation: 116 | Maximal Fitness: 357.0\n",
            "Generation: 117 | Maximal Fitness: 366.0\n",
            "Generation: 118 | Maximal Fitness: 340.0\n",
            "Generation: 119 | Maximal Fitness: 311.0\n",
            "Generation: 120 | Maximal Fitness: 321.0\n",
            "Generation: 121 | Maximal Fitness: 326.0\n",
            "Generation: 122 | Maximal Fitness: 328.0\n",
            "Generation: 123 | Maximal Fitness: 318.0\n",
            "Generation: 124 | Maximal Fitness: 324.0\n",
            "Generation: 125 | Maximal Fitness: 337.0\n",
            "Generation: 126 | Maximal Fitness: 311.0\n",
            "Generation: 127 | Maximal Fitness: 500.0\n",
            "Generation: 128 | Maximal Fitness: 346.0\n",
            "Generation: 129 | Maximal Fitness: 318.0\n",
            "Generation: 130 | Maximal Fitness: 500.0\n",
            "Generation: 131 | Maximal Fitness: 500.0\n",
            "Generation: 132 | Maximal Fitness: 500.0\n",
            "Generation: 133 | Maximal Fitness: 500.0\n",
            "Generation: 134 | Maximal Fitness: 500.0\n",
            "Generation: 135 | Maximal Fitness: 500.0\n",
            "Generation: 136 | Maximal Fitness: 500.0\n",
            "Generation: 137 | Maximal Fitness: 500.0\n",
            "Generation: 138 | Maximal Fitness: 500.0\n",
            "Generation: 139 | Maximal Fitness: 500.0\n",
            "Generation: 140 | Maximal Fitness: 500.0\n",
            "Generation: 141 | Maximal Fitness: 500.0\n",
            "Generation: 142 | Maximal Fitness: 500.0\n",
            "Generation: 143 | Maximal Fitness: 310.0\n",
            "Generation: 144 | Maximal Fitness: 500.0\n",
            "Generation: 145 | Maximal Fitness: 338.0\n",
            "Generation: 146 | Maximal Fitness: 352.0\n",
            "Generation: 147 | Maximal Fitness: 328.0\n",
            "Generation: 148 | Maximal Fitness: 339.0\n",
            "Generation: 149 | Maximal Fitness: 414.0\n",
            "Generation: 150 | Maximal Fitness: 342.0\n",
            "Generation: 151 | Maximal Fitness: 349.0\n",
            "Generation: 152 | Maximal Fitness: 331.0\n",
            "Generation: 153 | Maximal Fitness: 313.0\n",
            "Generation: 154 | Maximal Fitness: 500.0\n",
            "Generation: 155 | Maximal Fitness: 500.0\n",
            "Generation: 156 | Maximal Fitness: 500.0\n",
            "Generation: 157 | Maximal Fitness: 500.0\n",
            "Generation: 158 | Maximal Fitness: 500.0\n",
            "Generation: 159 | Maximal Fitness: 500.0\n",
            "Generation: 160 | Maximal Fitness: 500.0\n",
            "Generation: 161 | Maximal Fitness: 500.0\n",
            "Generation: 162 | Maximal Fitness: 500.0\n",
            "Generation: 163 | Maximal Fitness: 500.0\n",
            "Generation: 164 | Maximal Fitness: 500.0\n",
            "Generation: 165 | Maximal Fitness: 500.0\n",
            "Generation: 166 | Maximal Fitness: 500.0\n",
            "Generation: 167 | Maximal Fitness: 500.0\n",
            "Generation: 168 | Maximal Fitness: 500.0\n",
            "Generation: 169 | Maximal Fitness: 500.0\n",
            "Generation: 170 | Maximal Fitness: 500.0\n",
            "Generation: 171 | Maximal Fitness: 500.0\n",
            "Generation: 172 | Maximal Fitness: 500.0\n",
            "Generation: 173 | Maximal Fitness: 500.0\n",
            "Generation: 174 | Maximal Fitness: 500.0\n",
            "Generation: 175 | Maximal Fitness: 500.0\n",
            "Generation: 176 | Maximal Fitness: 500.0\n",
            "Generation: 177 | Maximal Fitness: 500.0\n",
            "Generation: 178 | Maximal Fitness: 500.0\n",
            "Generation: 179 | Maximal Fitness: 500.0\n",
            "Generation: 180 | Maximal Fitness: 500.0\n",
            "Generation: 181 | Maximal Fitness: 500.0\n",
            "Generation: 182 | Maximal Fitness: 500.0\n",
            "Generation: 183 | Maximal Fitness: 500.0\n",
            "Generation: 184 | Maximal Fitness: 500.0\n",
            "Generation: 185 | Maximal Fitness: 500.0\n",
            "Generation: 186 | Maximal Fitness: 500.0\n",
            "Generation: 187 | Maximal Fitness: 500.0\n",
            "Generation: 188 | Maximal Fitness: 500.0\n",
            "Generation: 189 | Maximal Fitness: 500.0\n",
            "Generation: 190 | Maximal Fitness: 500.0\n",
            "Generation: 191 | Maximal Fitness: 500.0\n",
            "Generation: 192 | Maximal Fitness: 500.0\n",
            "Generation: 193 | Maximal Fitness: 500.0\n",
            "Generation: 194 | Maximal Fitness: 500.0\n",
            "Generation: 195 | Maximal Fitness: 500.0\n",
            "Generation: 196 | Maximal Fitness: 500.0\n",
            "Generation: 197 | Maximal Fitness: 500.0\n",
            "Generation: 198 | Maximal Fitness: 500.0\n",
            "Generation: 199 | Maximal Fitness: 500.0\n",
            "Generation: 200 | Maximal Fitness: 500.0\n",
            "Generation: 201 | Maximal Fitness: 500.0\n",
            "Generation: 202 | Maximal Fitness: 500.0\n",
            "Generation: 203 | Maximal Fitness: 500.0\n",
            "Generation: 204 | Maximal Fitness: 500.0\n",
            "Generation: 205 | Maximal Fitness: 500.0\n",
            "Generation: 206 | Maximal Fitness: 500.0\n",
            "Generation: 207 | Maximal Fitness: 500.0\n",
            "Generation: 208 | Maximal Fitness: 500.0\n",
            "Generation: 209 | Maximal Fitness: 500.0\n",
            "Generation: 210 | Maximal Fitness: 500.0\n",
            "Generation: 211 | Maximal Fitness: 500.0\n",
            "Generation: 212 | Maximal Fitness: 500.0\n",
            "Generation: 213 | Maximal Fitness: 500.0\n",
            "Generation: 214 | Maximal Fitness: 500.0\n",
            "Generation: 215 | Maximal Fitness: 500.0\n",
            "Generation: 216 | Maximal Fitness: 500.0\n",
            "Generation: 217 | Maximal Fitness: 500.0\n",
            "Generation: 218 | Maximal Fitness: 500.0\n",
            "Generation: 219 | Maximal Fitness: 500.0\n",
            "Generation: 220 | Maximal Fitness: 500.0\n",
            "Generation: 221 | Maximal Fitness: 500.0\n",
            "Generation: 222 | Maximal Fitness: 500.0\n",
            "Generation: 223 | Maximal Fitness: 500.0\n",
            "Generation: 224 | Maximal Fitness: 500.0\n",
            "Generation: 225 | Maximal Fitness: 500.0\n",
            "Generation: 226 | Maximal Fitness: 500.0\n",
            "Generation: 227 | Maximal Fitness: 500.0\n",
            "Generation: 228 | Maximal Fitness: 500.0\n",
            "Generation: 229 | Maximal Fitness: 500.0\n",
            "Generation: 230 | Maximal Fitness: 500.0\n",
            "Generation: 231 | Maximal Fitness: 500.0\n",
            "Generation: 232 | Maximal Fitness: 500.0\n",
            "Generation: 233 | Maximal Fitness: 500.0\n",
            "Generation: 234 | Maximal Fitness: 500.0\n",
            "Generation: 235 | Maximal Fitness: 500.0\n",
            "Generation: 236 | Maximal Fitness: 500.0\n",
            "Generation: 237 | Maximal Fitness: 500.0\n",
            "Generation: 238 | Maximal Fitness: 500.0\n",
            "Generation: 239 | Maximal Fitness: 500.0\n",
            "Generation: 240 | Maximal Fitness: 500.0\n",
            "Generation: 241 | Maximal Fitness: 500.0\n",
            "Generation: 242 | Maximal Fitness: 500.0\n",
            "Generation: 243 | Maximal Fitness: 500.0\n",
            "Generation: 244 | Maximal Fitness: 500.0\n",
            "Generation: 245 | Maximal Fitness: 500.0\n",
            "Generation: 246 | Maximal Fitness: 500.0\n",
            "Generation: 247 | Maximal Fitness: 500.0\n",
            "Generation: 248 | Maximal Fitness: 500.0\n",
            "Generation: 249 | Maximal Fitness: 500.0\n",
            "Generation: 250 | Maximal Fitness: 500.0\n",
            "Generation: 251 | Maximal Fitness: 500.0\n",
            "Generation: 252 | Maximal Fitness: 500.0\n",
            "Generation: 253 | Maximal Fitness: 500.0\n",
            "Generation: 254 | Maximal Fitness: 500.0\n",
            "Generation: 255 | Maximal Fitness: 500.0\n",
            "Generation: 256 | Maximal Fitness: 500.0\n",
            "Generation: 257 | Maximal Fitness: 500.0\n",
            "Generation: 258 | Maximal Fitness: 500.0\n",
            "Generation: 259 | Maximal Fitness: 500.0\n",
            "Generation: 260 | Maximal Fitness: 500.0\n",
            "Generation: 261 | Maximal Fitness: 500.0\n",
            "Generation: 262 | Maximal Fitness: 500.0\n",
            "Generation: 263 | Maximal Fitness: 500.0\n",
            "Generation: 264 | Maximal Fitness: 500.0\n",
            "Generation: 265 | Maximal Fitness: 500.0\n",
            "Generation: 266 | Maximal Fitness: 500.0\n",
            "Generation: 267 | Maximal Fitness: 500.0\n",
            "Generation: 268 | Maximal Fitness: 500.0\n",
            "Generation: 269 | Maximal Fitness: 500.0\n",
            "Generation: 270 | Maximal Fitness: 500.0\n",
            "Generation: 271 | Maximal Fitness: 500.0\n",
            "Generation: 272 | Maximal Fitness: 500.0\n",
            "Generation: 273 | Maximal Fitness: 500.0\n",
            "Generation: 274 | Maximal Fitness: 500.0\n",
            "Generation: 275 | Maximal Fitness: 500.0\n",
            "Generation: 276 | Maximal Fitness: 500.0\n",
            "Generation: 277 | Maximal Fitness: 500.0\n",
            "Generation: 278 | Maximal Fitness: 500.0\n",
            "Generation: 279 | Maximal Fitness: 500.0\n",
            "Generation: 280 | Maximal Fitness: 500.0\n",
            "Generation: 281 | Maximal Fitness: 500.0\n",
            "Generation: 282 | Maximal Fitness: 500.0\n",
            "Generation: 283 | Maximal Fitness: 500.0\n",
            "Generation: 284 | Maximal Fitness: 500.0\n",
            "Generation: 285 | Maximal Fitness: 500.0\n",
            "Generation: 286 | Maximal Fitness: 500.0\n",
            "Generation: 287 | Maximal Fitness: 500.0\n",
            "Generation: 288 | Maximal Fitness: 500.0\n",
            "Generation: 289 | Maximal Fitness: 500.0\n",
            "Generation: 290 | Maximal Fitness: 500.0\n",
            "Generation: 291 | Maximal Fitness: 500.0\n",
            "Generation: 292 | Maximal Fitness: 500.0\n",
            "Generation: 293 | Maximal Fitness: 500.0\n",
            "Generation: 294 | Maximal Fitness: 500.0\n",
            "Generation: 295 | Maximal Fitness: 500.0\n",
            "Generation: 296 | Maximal Fitness: 500.0\n",
            "Generation: 297 | Maximal Fitness: 500.0\n",
            "Generation: 298 | Maximal Fitness: 500.0\n",
            "Generation: 299 | Maximal Fitness: 500.0\n"
          ]
        },
        {
          "data": {
            "text/plain": [
              "Text(0, 0.5, 'Fitness')"
            ]
          },
          "execution_count": 11,
          "metadata": {},
          "output_type": "execute_result"
        },
        {
          "data": {
            "image/png": "[encoded data removed]",
            "text/plain": [
              "<Figure size 640x480 with 1 Axes>"
            ]
          },
          "metadata": {},
          "output_type": "display_data"
        }
      ],
      "source": [
        "# Training environment\n",
        "env = gym.make(\"CartPole-v1\")\n",
        "fitnessProgess = []\n",
        "\n",
        "for g in range(300):  # 300 generations\n",
        "    pop.gymnasium(\n",
        "        env,\n",
        "        dMax=10,\n",
        "        penalty=2,\n",
        "        maxSteps=500,\n",
        "        maxConsecutiveP=10,\n",
        "        worstFitness=0,\n",
        "        seed=seed+g\n",
        "    )\n",
        "    # Selection\n",
        "    pop.tournamentSelection(\n",
        "        N=2, # tournament size\n",
        "        E=1 # number of safed elite\n",
        "        )\n",
        "    \n",
        "    # Add/Delete nodes\n",
        "    pop.callAddDelNodes(minFeatures, maxFeatures)\n",
        "\n",
        "    # Mutations\n",
        "    pop.callEdgeMutation(\n",
        "        probInnerNodes=0.05, # probability of changing an edge of jn or pn\n",
        "        probStartNode = 0.05 # probability of changing an edge of the start node\n",
        "        )\n",
        "    # Crossover (recombination)\n",
        "    pop.crossover(probability=0.05)\n",
        "\n",
        "    maxFitness = pop.bestFit\n",
        "    print(f\"Generation: {g} | Maximal Fitness: {maxFitness}\")\n",
        "    fitnessProgess.append(maxFitness)\n",
        "\n",
        "# Plot fitness progression\n",
        "plt.plot(fitnessProgess)\n",
        "plt.title(\"Fitness Progress\")\n",
        "plt.xlabel(\"Generation\")\n",
        "plt.ylabel(\"Fitness\")"
      ]
    },
    {
      "cell_type": "markdown",
      "metadata": {
        "id": "o0oTgoFOeEx5"
      },
      "source": [
        "## Inspecting the Best Individual\n",
        "\n",
        "Now we inspect the best individual:  \n",
        "- Start node and its edges  \n",
        "- Inner node types, functions, edges, and boundaries  \n",
        "\n",
        "Because the Genetic Network Programming is **not** a Blackbox-Model\n"
      ]
    },
    {
      "cell_type": "code",
      "execution_count": 12,
      "metadata": {
        "colab": {
          "base_uri": "https://localhost:8080/"
        },
        "id": "XT5L-ty8pXYE",
        "outputId": "2246b8cb-9cb3-4db4-d9bb-1b433e67431d"
      },
      "outputs": [
        {
          "name": "stdout",
          "output_type": "stream",
          "text": [
            "Start Node: [1]\n",
            "Type: J | Function: 3 Edges: [1, 4] | Boundaries: [-10.0, 0.0, 10.0]\n",
            "Type: P | Function: 0 Edges: [0] | Boundaries: []\n",
            "Type: P | Function: 1 Edges: [0] | Boundaries: []\n",
            "Type: P | Function: 1 Edges: [2] | Boundaries: []\n",
            "Type: J | Function: 2 Edges: [5, 3] | Boundaries: [-0.4180000126361847, 0.0, 0.4180000126361847]\n",
            "Type: P | Function: 0 Edges: [2] | Boundaries: []\n",
            "Type: P | Function: 0 Edges: [1] | Boundaries: []\n"
          ]
        }
      ],
      "source": [
        "pop.individuals[-1].fitness\n",
        "print(f\"Start Node: {pop.individuals[-1].startNode.edges}\")\n",
        "for node in pop.individuals[-1].innerNodes:\n",
        "  print(f\"Type: {node.type} | Function: {node.f} Edges: {node.edges} | Boundaries: {node.boundaries}\")"
      ]
    },
    {
      "cell_type": "markdown",
      "metadata": {
        "id": "Z4--eOeWeuYH"
      },
      "source": [
        "## Validation of the Best Individual\n",
        "\n",
        "The best individual is validated in a fresh environment.  \n",
        "We compute the average fitness across multiple runs.  \n"
      ]
    },
    {
      "cell_type": "code",
      "execution_count": 13,
      "metadata": {
        "colab": {
          "base_uri": "https://localhost:8080/"
        },
        "id": "GZz_jKLHGy3m",
        "outputId": "cb27a34f-02a0-46ee-92bf-ddceb882a556"
      },
      "outputs": [
        {
          "name": "stdout",
          "output_type": "stream",
          "text": [
            "Average Fitnes of Validations: 500.0\n"
          ]
        }
      ],
      "source": [
        "env = gym.make(\"CartPole-v1\")\n",
        "validationResults = []\n",
        "for v in range(10):\n",
        "    pop.gymnasium(\n",
        "          env,\n",
        "          dMax=10,\n",
        "          penalty=2,\n",
        "          maxSteps=500,\n",
        "          maxConsecutiveP=10,\n",
        "          worstFitness=0,\n",
        "          seed=seed+v)\n",
        "    validationResults.append(pop.bestFit)\n",
        "print(f\"Average Fitnes of Validations: {statistics.mean(validationResults)}\")"
      ]
    },
    {
      "cell_type": "markdown",
      "metadata": {
        "id": "mvy_giy5fXC-"
      },
      "source": [
        "## Rendering and Recording the Best Run\n",
        "\n",
        "Finally, we run the environment in `rgb_array` mode and use `RecordVideo`  \n",
        "to save a video of the best individual playing CartPole. You can find the video in the nodebook folder \"videos\".\n"
      ]
    },
    {
      "cell_type": "code",
      "execution_count": 14,
      "metadata": {
        "id": "sbKhQQrqfbwy"
      },
      "outputs": [
        {
          "name": "stderr",
          "output_type": "stream",
          "text": [
            "/Users/Fabian/Documents/DataScience/Phd/GNPfrac/venv/lib/python3.11/site-packages/gymnasium/wrappers/rendering.py:296: UserWarning: \u001b[33mWARN: Overwriting existing videos at /Users/Fabian/Documents/DataScience/Phd/GNPfrac/notebooks/videos folder (try specifying a different `video_folder` for the `RecordVideo` wrapper if this is not desired)\u001b[0m\n",
            "  logger.warn(\n"
          ]
        }
      ],
      "source": [
        "env = gym.make(\"CartPole-v1\", render_mode=\"rgb_array\")\n",
        "env = RecordVideo(env, video_folder=\"videos\", name_prefix=\"cartpole\")\n",
        "\n",
        "# Keep only the best individual\n",
        "pop.individuals = [pop.individuals[-1]]\n",
        "\n",
        "# Record a run\n",
        "pop.gymnasium(\n",
        "    env,\n",
        "    dMax=10,\n",
        "    penalty=1,\n",
        "    maxSteps=500,\n",
        "    maxConsecutiveP=5,\n",
        "    worstFitness=0,\n",
        "    seed=seed\n",
        ")\n",
        "env.close()"
      ]
    }
  ],
  "metadata": {
    "colab": {
      "provenance": []
    },
    "kernelspec": {
      "display_name": "Python 3",
      "name": "python3"
    },
    "language_info": {
      "codemirror_mode": {
        "name": "ipython",
        "version": 3
      },
      "file_extension": ".py",
      "mimetype": "text/x-python",
      "name": "python",
      "nbconvert_exporter": "python",
      "pygments_lexer": "ipython3",
      "version": "3.11.2"
    }
  },
  "nbformat": 4,
  "nbformat_minor": 0
}
